{
 "cells": [
  {
   "cell_type": "code",
   "execution_count": 0,
   "metadata": {
    "application/vnd.databricks.v1+cell": {
     "cellMetadata": {
      "byteLimit": 2048000,
      "rowLimit": 10000
     },
     "inputWidgets": {},
     "nuid": "3bc3b2df-7f97-4cf6-a528-c8730f65d3de",
     "showTitle": false,
     "tableResultSettingsMap": {},
     "title": ""
    }
   },
   "outputs": [],
   "source": [
    "CREATE TABLE IF NOT EXISTS test_access_control.first_source\n",
    "\n",
    "select \n",
    "  \n",
    "  lower(Name) as name,\n",
    "  lower(`credential type`) as credential_type,\n",
    "  `credential number` as credential_number,\n",
    "  Status,\n",
    "  cast(`expiration date` as timestamp) as expiration_date,\n",
    "  cast(`disciplinary action` as boolean) as disciplinary_action,\n",
    "  replace(lower(left(`address`, position (',' in (`address`)))),',','') as address,\n",
    "  trim(left(right(`address`, position (','  in reverse(`address`))-1),3)) as State,\n",
    "  cast(right(right(`address`, position (','  in reverse(`address`))-1),5) as int) as Zip,\n",
    "  lower(county) as county,\n",
    "  cast(replace(`Phone`,'-','') as int) as phone,\n",
    "  cast(`First Issue Date` as timestamp) as first_issue_date,\n",
    "  lower(`Primary Contact Name`) as primary_contact_name,\n",
    "  lower(`Primary Contact Role`) as primary_contact_role\n",
    "from testcsv.brightwheel_source1"
   ]
  },
  {
   "cell_type": "code",
   "execution_count": 0,
   "metadata": {
    "application/vnd.databricks.v1+cell": {
     "cellMetadata": {
      "byteLimit": 2048000,
      "rowLimit": 10000
     },
     "inputWidgets": {},
     "nuid": "320ed46f-81e1-4a06-a188-6157e461901d",
     "showTitle": false,
     "tableResultSettingsMap": {},
     "title": ""
    }
   },
   "outputs": [],
   "source": [
    "select *\n",
    "from test_access_control.first_source"
   ]
  }
 ],
 "metadata": {
  "application/vnd.databricks.v1+notebook": {
   "computePreferences": null,
   "dashboards": [],
   "environmentMetadata": {
    "base_environment": "",
    "environment_version": "2"
   },
   "language": "sql",
   "notebookMetadata": {
    "pythonIndentUnit": 2
   },
   "notebookName": "Source1",
   "widgets": {}
  },
  "language_info": {
   "name": "sql"
  }
 },
 "nbformat": 4,
 "nbformat_minor": 0
}
