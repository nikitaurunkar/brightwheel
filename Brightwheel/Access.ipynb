{
 "cells": [
  {
   "cell_type": "code",
   "execution_count": 0,
   "metadata": {
    "application/vnd.databricks.v1+cell": {
     "cellMetadata": {
      "byteLimit": 2048000,
      "rowLimit": 10000
     },
     "inputWidgets": {},
     "nuid": "525a6f18-e5b7-4ad3-9252-2ef4bf5cef3a",
     "showTitle": false,
     "tableResultSettingsMap": {},
     "title": ""
    }
   },
   "outputs": [],
   "source": [
    "select *\n",
    "from testcsv.brightwheel_raw_data"
   ]
  },
  {
   "cell_type": "code",
   "execution_count": 0,
   "metadata": {
    "application/vnd.databricks.v1+cell": {
     "cellMetadata": {
      "byteLimit": 2048000,
      "rowLimit": 10000
     },
     "inputWidgets": {},
     "nuid": "3b1eef96-684b-4421-8d0d-65fe29a2d3e0",
     "showTitle": false,
     "tableResultSettingsMap": {},
     "title": ""
    }
   },
   "outputs": [],
   "source": [
    "select *\n",
    "from testcsv.brightwheel_source1"
   ]
  },
  {
   "cell_type": "code",
   "execution_count": 0,
   "metadata": {
    "application/vnd.databricks.v1+cell": {
     "cellMetadata": {
      "byteLimit": 2048000,
      "rowLimit": 10000
     },
     "inputWidgets": {},
     "nuid": "43621e4b-81b5-476e-a246-86d8e51614dc",
     "showTitle": false,
     "tableResultSettingsMap": {},
     "title": ""
    }
   },
   "outputs": [],
   "source": [
    "select *\n",
    "from testcsv.brightwheel_source2"
   ]
  },
  {
   "cell_type": "code",
   "execution_count": 0,
   "metadata": {
    "application/vnd.databricks.v1+cell": {
     "cellMetadata": {
      "byteLimit": 2048000,
      "rowLimit": 10000
     },
     "inputWidgets": {},
     "nuid": "faf48d8b-21b0-44cf-b3fc-81436e50e136",
     "showTitle": false,
     "tableResultSettingsMap": {},
     "title": ""
    }
   },
   "outputs": [],
   "source": [
    "select *\n",
    "from testcsv.brightwheel_source3"
   ]
  },
  {
   "cell_type": "code",
   "execution_count": 0,
   "metadata": {
    "application/vnd.databricks.v1+cell": {
     "cellMetadata": {},
     "inputWidgets": {},
     "nuid": "63e1fa00-a317-4c13-8233-ba68b0ac57e4",
     "showTitle": false,
     "tableResultSettingsMap": {},
     "title": ""
    }
   },
   "outputs": [],
   "source": [
    "Notes\n",
    "\n",
    "1. format phone number\n",
    "2. format address \n",
    "3. Can have a seperate table Geo to normalize the data\n",
    "4. Flags\n",
    "\n",
    "\n",
    "Source 2\n",
    "1. Seperate type license into number and texts and title\n",
    "2. date matching for every source\n",
    "\n",
    "Source 3 \n"
   ]
  },
  {
   "cell_type": "code",
   "execution_count": 0,
   "metadata": {
    "application/vnd.databricks.v1+cell": {
     "cellMetadata": {
      "byteLimit": 2048000,
      "rowLimit": 10000
     },
     "inputWidgets": {},
     "nuid": "fec97d9f-4e3f-4fbf-a51a-ae25a2e15552",
     "showTitle": false,
     "tableResultSettingsMap": {},
     "title": ""
    }
   },
   "outputs": [],
   "source": [
    "select *\n",
    "from testcsv.brightwheel_raw_data r\n",
    "LEFT JOIN  testcsv.brightwheel_source1 s\n",
    "ON lower(r.street) like lower('%s.address%')\n"
   ]
  },
  {
   "cell_type": "code",
   "execution_count": 0,
   "metadata": {
    "application/vnd.databricks.v1+cell": {
     "cellMetadata": {
      "byteLimit": 2048000,
      "rowLimit": 10000
     },
     "inputWidgets": {},
     "nuid": "155d85c5-967f-40a2-9425-7ca4bf7c5209",
     "showTitle": false,
     "tableResultSettingsMap": {},
     "title": ""
    }
   },
   "outputs": [],
   "source": [
    "CREATE TABLE IF NOT EXISTS test_access_control.third_source\n",
    "-- Source 3, monitoring frequency and agency number fields are blank, hence left out intentionally. Will add back if there is additional data in the future \n",
    "select \n",
    "    cast(operation as int) as operation,\n",
    "    `Operation Name` as operation_name,\n",
    "    lower(`Address`) as address,\n",
    "    lower(city) as city,\n",
    "    state,\n",
    "    cast(Zip as int) as zip,\n",
    "    lower(County) as county,\n",
    "    cast(replace(`Phone`,'-','') as int) as phone,\n",
    "    `Type` as type,\n",
    "    Status,\n",
    "    cast(`Issue Date` as timestamp) as issue_date,\n",
    "    cast(Capacity as int) as capacity,\n",
    "    `Email Address` as email_address,\n",
    "    cast(`Facility ID` as int) as facility_id,\n",
    "    cast(Infant as boolean) as infant,\n",
    "    cast(Toddler as boolean) as toddler,\n",
    "    cast(Preschool as boolean) as preschool,\n",
    "    cast(School as boolean) as school\n",
    "FROM testcsv.brightwheel_source3"
   ]
  },
  {
   "cell_type": "code",
   "execution_count": 0,
   "metadata": {
    "application/vnd.databricks.v1+cell": {
     "cellMetadata": {
      "byteLimit": 2048000,
      "rowLimit": 10000
     },
     "inputWidgets": {},
     "nuid": "a5e2061c-7493-4080-84c4-b697fe0236e9",
     "showTitle": false,
     "tableResultSettingsMap": {},
     "title": ""
    }
   },
   "outputs": [],
   "source": [
    "select *\n",
    "from test_access_control.third_source"
   ]
  },
  {
   "cell_type": "code",
   "execution_count": 0,
   "metadata": {
    "application/vnd.databricks.v1+cell": {
     "cellMetadata": {
      "byteLimit": 2048000,
      "rowLimit": 10000
     },
     "inputWidgets": {},
     "nuid": "f4f6cbea-c4a5-4b40-8ae5-92579276fcd6",
     "showTitle": false,
     "tableResultSettingsMap": {},
     "title": ""
    }
   },
   "outputs": [],
   "source": [
    "select *\n",
    "from test_access_control.first_source"
   ]
  },
  {
   "cell_type": "code",
   "execution_count": 0,
   "metadata": {
    "application/vnd.databricks.v1+cell": {
     "cellMetadata": {
      "byteLimit": 2048000,
      "rowLimit": 10000
     },
     "inputWidgets": {},
     "nuid": "0608396f-07f7-4642-bc52-e8ab9caa97f9",
     "showTitle": false,
     "tableResultSettingsMap": {},
     "title": ""
    }
   },
   "outputs": [],
   "source": [
    "CREATE TABLE IF NOT EXISTS test_access_control.leads\n",
    "select \n",
    "  cast(id as int) as id,\n",
    "  cast(is_deleted as boolean) as is_deleted,\n",
    "  last_name,\n",
    "  first_name,\n",
    "  title,\n",
    "  company,\n",
    "  street,\n",
    "  city,\n",
    "  state,\n",
    "  cast(postal_code as int) as zip,\n",
    "  CASE WHEN country = 'United States' then 'US' when country = 'Canada' then 'CA' else country end as country,\n",
    "  cast(phone as int) as phone,\n",
    "  cast(mobile_phone as int) as mobile_phone,\n",
    "  email,\n",
    "  website,\n",
    "  lead_source,\n",
    "  status,\n",
    "  cast(is_converted as boolean) as is_converted,\n",
    "  cast(created_date as timestamp) as created_date,\n",
    "  cast(last_modified_date as timestamp) as last_modified_date,\n",
    "  cast(last_activity_date as timestamp) as last_activity_date,\n",
    "  outreach_stage_c as outreach_stage,\n",
    "  current_enrollment_c as current_enrollment,\n",
    "  cast(capacity_c as int) as capacity,\n",
    "  cast(lead_source_last_updated_c as timestamp) as lead_source_last_updated, \n",
    "  cast(brightwheel_school_uuid_c as int) as brightwheel_school_uuid\n",
    "\n",
    "from testcsv.brightwheel_raw_data"
   ]
  },
  {
   "cell_type": "code",
   "execution_count": 0,
   "metadata": {
    "application/vnd.databricks.v1+cell": {
     "cellMetadata": {
      "byteLimit": 2048000,
      "rowLimit": 10000
     },
     "inputWidgets": {},
     "nuid": "396b83f6-b7b9-4c0c-834f-e56ebdce96ee",
     "showTitle": false,
     "tableResultSettingsMap": {},
     "title": ""
    }
   },
   "outputs": [],
   "source": [
    "select *\n",
    "from test_access_control.leads"
   ]
  },
  {
   "cell_type": "code",
   "execution_count": 0,
   "metadata": {
    "application/vnd.databricks.v1+cell": {
     "cellMetadata": {
      "byteLimit": 2048000,
      "rowLimit": 10000
     },
     "inputWidgets": {},
     "nuid": "1fcf678f-ad6e-447e-aa6d-15ec15d5d74a",
     "showTitle": false,
     "tableResultSettingsMap": {},
     "title": ""
    }
   },
   "outputs": [],
   "source": [
    "CREATE TABLE IF NOT EXISTS test_access_control.second_source\n",
    "select \n",
    "    split_part(lower(`Type License`),'-',1) as license_type ,\n",
    "    split_part((`Type License`),'-',2) as license_number,\n",
    "    lower(Company) as company,\n",
    "    cast(case when `Accepts Subsidy` = 'Accepts Subsidy' then true else false end as boolean) as accepts_subsidy,\n",
    "    cast(case when `year round` = 'Year Round' then true else false end as boolean) as year_round,\n",
    "    cast(case when `Daytime Hours` = 'Daytime Hours' then true else false end as boolean) as daytime_hours,\n",
    "    cast(split_part(`Star Level`, ' ', 1) as int) as star_level,\n",
    "    mon, Tues, wed, Thurs, Friday, Saturday, Sunday,\n",
    "    lower(`Name of Primary caregiver`) as name_of_primary_caregiver,\n",
    "    Designation as designation,\n",
    "    trim(replace(replace(replace(replace(replace(`Phone`,'-',''),'(',''),'') ,')',''),' ','')) as phone,\n",
    "    Email as email,\n",
    "    lower(Address1) as address,\n",
    "    lower(city) as city,\n",
    "    State,\n",
    "    cast(zip as int) as zip,\n",
    "    split_part((`subsidy contract number`),':',2) as subsidy_contract_number,\n",
    "    cast(`total cap` as int) as capacity,\n",
    "    left(`ages accepted 1`, charindex('(', `ages accepted 1`)-1) as ages_accepted_1,\n",
    "    left(`AA2`, charindex('(', `AA2`)-1) as ages_accepted_2,\n",
    "    left(`AA3`, charindex('(', `AA3`)-1) as ages_accepted_3,\n",
    "    left(`AA4`, charindex('(', `AA4`)-1) as ages_accepted_4,\n",
    "    cast(replace(`license monitoring since`,'Monitoring since','') as timestamp) as license_monitoring_since_date,\n",
    "    `School Year Only` as school_year_only,\n",
    "    left(`Evening Hours`, charindex('(', `Evening Hours`)-1) as evening_hours\n",
    "from testcsv.brightwheel_source2"
   ]
  },
  {
   "cell_type": "code",
   "execution_count": 0,
   "metadata": {
    "application/vnd.databricks.v1+cell": {
     "cellMetadata": {
      "byteLimit": 2048000,
      "rowLimit": 10000
     },
     "inputWidgets": {},
     "nuid": "3fb253cf-53ea-4d75-8b8c-f58fb4281e9c",
     "showTitle": false,
     "tableResultSettingsMap": {},
     "title": ""
    }
   },
   "outputs": [],
   "source": [
    "select *\n",
    "from test_access_control.second_source"
   ]
  }
 ],
 "metadata": {
  "application/vnd.databricks.v1+notebook": {
   "computePreferences": null,
   "dashboards": [],
   "environmentMetadata": {
    "base_environment": "",
    "environment_version": "2"
   },
   "language": "sql",
   "notebookMetadata": {
    "pythonIndentUnit": 2
   },
   "notebookName": "Access",
   "widgets": {}
  },
  "language_info": {
   "name": "sql"
  }
 },
 "nbformat": 4,
 "nbformat_minor": 0
}
